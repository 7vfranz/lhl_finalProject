{
 "cells": [
  {
   "cell_type": "code",
   "execution_count": 1,
   "metadata": {},
   "outputs": [],
   "source": [
    "from modules.preprocess_text import preprocess_text\n",
    "import pandas as pd"
   ]
  },
  {
   "cell_type": "code",
   "execution_count": 2,
   "metadata": {},
   "outputs": [],
   "source": [
    "path = '../data/casaData/'"
   ]
  },
  {
   "cell_type": "code",
   "execution_count": 3,
   "metadata": {},
   "outputs": [],
   "source": [
    "df_id = pd.read_csv('unique_id.csv', index_col=0)"
   ]
  },
  {
   "cell_type": "code",
   "execution_count": 4,
   "metadata": {},
   "outputs": [],
   "source": [
    "df_num_clean = pd.read_csv('trainListings_num.csv', index_col=0)"
   ]
  },
  {
   "cell_type": "code",
   "execution_count": 11,
   "metadata": {},
   "outputs": [
    {
     "name": "stderr",
     "output_type": "stream",
     "text": [
      "/var/folders/fm/m7sbfrtn37dcz2lvxhvj6q0m0000gn/T/ipykernel_28827/1413773532.py:2: DtypeWarning: Columns (0,1,15,16) have mixed types. Specify dtype option on import or set low_memory=False.\n",
      "  df = pd.read_csv('trainListings_cleanID.csv', index_col=0)\n"
     ]
    }
   ],
   "source": [
    "# df = pd.read_csv('trainListings_cleanID.csv', header=0, usecols=[x for x in range(17)])\n",
    "df = pd.read_csv('trainListings_cleanID.csv', index_col=0)"
   ]
  },
  {
   "cell_type": "code",
   "execution_count": 13,
   "metadata": {},
   "outputs": [],
   "source": [
    "df_num_clean = df_num_clean[['id_clean', 'groupName', 'price_filled', 'bedroom_cats', 'bathroom_cats', 'area_totalLiving_filled']]"
   ]
  },
  {
   "cell_type": "code",
   "execution_count": 14,
   "metadata": {},
   "outputs": [],
   "source": [
    "df_all = pd.merge(df_num_clean, df, how='left', left_on='id_clean', right_on='id_clean')"
   ]
  },
  {
   "cell_type": "code",
   "execution_count": 15,
   "metadata": {},
   "outputs": [],
   "source": [
    "df_all = df_all[['id_clean', 'groupName', 'price_filled', 'bedroom_cats',\n",
    "       'bathroom_cats', 'area_totalLiving_filled', 'title', 'description', 'features']]"
   ]
  },
  {
   "cell_type": "code",
   "execution_count": 30,
   "metadata": {},
   "outputs": [],
   "source": [
    "df_unique = pd.merge(df_id, df_all, how='left', left_on='id1', right_on='id_clean')"
   ]
  },
  {
   "cell_type": "code",
   "execution_count": 31,
   "metadata": {},
   "outputs": [],
   "source": [
    "import re"
   ]
  },
  {
   "cell_type": "code",
   "execution_count": 49,
   "metadata": {},
   "outputs": [],
   "source": [
    "df_unique = df_unique.dropna(subset='description')\n",
    "df_unique = df_unique.dropna(subset='title')"
   ]
  },
  {
   "cell_type": "code",
   "execution_count": 33,
   "metadata": {},
   "outputs": [],
   "source": [
    "clean_desc=[]\n",
    "for text in df_unique['description']:\n",
    "    text = re.sub(r'\\s+', ' ', text).strip()\n",
    "    clean_desc.append(text)"
   ]
  },
  {
   "cell_type": "code",
   "execution_count": 91,
   "metadata": {},
   "outputs": [],
   "source": [
    "def process_title(text_list):\n",
    "    text_clean=[]\n",
    "    for text in text_list:\n",
    "        text = re.sub(r'https?://\\S+|www\\.\\S+', '', text) # remove urls\n",
    "        text = re.sub(r'<.*?>', '', text) # remove htmls\n",
    "        text = re.sub(r'\\s+', ' ', text).strip() #removes trailing white spaces and changes multiple spaces to one\n",
    "        text = re.sub(r'(?<=[/.,])(?=[^\\s])', ' ', text) # adds a space after a period or comma, avoid joining two words\n",
    "        text = re.sub(r'[-/]', '', text)\n",
    "        # text = re.sub(r'\\w*\\d\\w*', '', text)\n",
    "        word_list = text.split()\n",
    "        text=\" \".join([word for word in word_list if not word.isnumeric()])\n",
    "        text = text.title()\n",
    "        text_clean.append(text)\n",
    "    return text_clean"
   ]
  },
  {
   "cell_type": "code",
   "execution_count": 95,
   "metadata": {},
   "outputs": [],
   "source": [
    "temp = ['Santa Eulalia\\t\\t\\t\\t (Reference\\n # V-0020 Paola)']"
   ]
  },
  {
   "cell_type": "code",
   "execution_count": 98,
   "metadata": {},
   "outputs": [
    {
     "data": {
      "text/plain": [
       "1"
      ]
     },
     "execution_count": 98,
     "metadata": {},
     "output_type": "execute_result"
    }
   ],
   "source": [
    "len('a')"
   ]
  },
  {
   "cell_type": "code",
   "execution_count": 96,
   "metadata": {},
   "outputs": [],
   "source": [
    "temp_clean = process_title(temp)"
   ]
  },
  {
   "cell_type": "code",
   "execution_count": 97,
   "metadata": {},
   "outputs": [
    {
     "data": {
      "text/plain": [
       "['Santa Eulalia (Reference # V0020 Paola)']"
      ]
     },
     "execution_count": 97,
     "metadata": {},
     "output_type": "execute_result"
    }
   ],
   "source": [
    "temp_clean"
   ]
  },
  {
   "cell_type": "code",
   "execution_count": 110,
   "metadata": {},
   "outputs": [],
   "source": [
    "def process_description(text_list):\n",
    "    text_clean=[]\n",
    "    for text in text_list:\n",
    "        text = re.sub(r'https?://\\S+|www\\.\\S+', '', text) # remove urls\n",
    "        text = re.sub(r'<.*?>', '', text) # remove htmls\n",
    "        text = re.sub(r'\\s+', ' ', text).strip() #removes trailing white spaces and changes multiple spaces to one\n",
    "        text = re.sub(r'(?<=[/.,])(?=[^\\s])', ' ', text) # adds a space after a period or comma, avoid joining two words\n",
    "        text = ' '.join(re.split(r'(?<=[.?!])\\s+', text, 5)[:-1])\n",
    "        text_clean.append(text)\n",
    "    return text_clean"
   ]
  },
  {
   "cell_type": "code",
   "execution_count": 111,
   "metadata": {},
   "outputs": [],
   "source": [
    "df_unique['clean_desc'] = process_description(df_unique['description'])\n",
    "df_unique['clean_title'] = process_title(df_unique['title'])\n",
    "# df_unique['clean_desc'] = df_unique"
   ]
  },
  {
   "cell_type": "code",
   "execution_count": 103,
   "metadata": {},
   "outputs": [],
   "source": [
    "pd.set_option('display.max_colwidth', None)"
   ]
  },
  {
   "cell_type": "code",
   "execution_count": 112,
   "metadata": {},
   "outputs": [
    {
     "data": {
      "text/plain": [
       "7206     Description Penthouse for sale of 108m2, Comprises 4 bedrooms and 2 toilets, 1 bedroom with en suite bathroom. Terrace overlooking the sea and the sunset. 365 days a year. Community pool for adults and children.\n",
       "9457                                                                                                                                                                                                                        \n",
       "14621                                                                                                                                                                                                                       \n",
       "Name: clean_desc, dtype: object"
      ]
     },
     "execution_count": 112,
     "metadata": {},
     "output_type": "execute_result"
    }
   ],
   "source": [
    "df_unique.clean_desc.sample(3)"
   ]
  },
  {
   "cell_type": "code",
   "execution_count": null,
   "metadata": {},
   "outputs": [],
   "source": []
  },
  {
   "cell_type": "code",
   "execution_count": null,
   "metadata": {},
   "outputs": [],
   "source": []
  },
  {
   "cell_type": "code",
   "execution_count": 113,
   "metadata": {},
   "outputs": [],
   "source": [
    "temp = 'THIS IS A SENTENCE. THIS IS ANOTHER'"
   ]
  },
  {
   "cell_type": "code",
   "execution_count": 114,
   "metadata": {},
   "outputs": [
    {
     "data": {
      "text/plain": [
       "'This is a sentence. this is another'"
      ]
     },
     "execution_count": 114,
     "metadata": {},
     "output_type": "execute_result"
    }
   ],
   "source": [
    "temp.capitalize()"
   ]
  },
  {
   "cell_type": "code",
   "execution_count": 115,
   "metadata": {},
   "outputs": [],
   "source": [
    "temp = '. '.join(i.capitalize() for i in temp.split('. '))"
   ]
  },
  {
   "cell_type": "code",
   "execution_count": 116,
   "metadata": {},
   "outputs": [
    {
     "data": {
      "text/plain": [
       "'This is a sentence. This is another'"
      ]
     },
     "execution_count": 116,
     "metadata": {},
     "output_type": "execute_result"
    }
   ],
   "source": [
    "temp"
   ]
  },
  {
   "cell_type": "code",
   "execution_count": 6,
   "metadata": {},
   "outputs": [
    {
     "data": {
      "text/plain": [
       "['air condition garden use mint condition p']"
      ]
     },
     "execution_count": 6,
     "metadata": {},
     "output_type": "execute_result"
    }
   ],
   "source": [
    "preprocess_text(temp, alpha=True)"
   ]
  },
  {
   "cell_type": "code",
   "execution_count": 2,
   "metadata": {},
   "outputs": [],
   "source": [
    "df = pd.read_csv('trainListings_num.csv', index_col=0)"
   ]
  },
  {
   "cell_type": "code",
   "execution_count": 3,
   "metadata": {},
   "outputs": [
    {
     "data": {
      "text/html": [
       "<div>\n",
       "<style scoped>\n",
       "    .dataframe tbody tr th:only-of-type {\n",
       "        vertical-align: middle;\n",
       "    }\n",
       "\n",
       "    .dataframe tbody tr th {\n",
       "        vertical-align: top;\n",
       "    }\n",
       "\n",
       "    .dataframe thead th {\n",
       "        text-align: right;\n",
       "    }\n",
       "</style>\n",
       "<table border=\"1\" class=\"dataframe\">\n",
       "  <thead>\n",
       "    <tr style=\"text-align: right;\">\n",
       "      <th></th>\n",
       "      <th>id_clean</th>\n",
       "      <th>sourceId</th>\n",
       "      <th>source_size</th>\n",
       "      <th>groupName</th>\n",
       "      <th>price_filled</th>\n",
       "      <th>price_cats</th>\n",
       "      <th>price_log</th>\n",
       "      <th>bedrooms_filled_median</th>\n",
       "      <th>bathrooms_filled_median</th>\n",
       "      <th>bedroom_cats</th>\n",
       "      <th>bathroom_cats</th>\n",
       "      <th>area_totalLiving_filled</th>\n",
       "      <th>area_totalLiving_cats</th>\n",
       "      <th>plotArea_filled</th>\n",
       "      <th>plotArea_cats</th>\n",
       "    </tr>\n",
       "  </thead>\n",
       "  <tbody>\n",
       "    <tr>\n",
       "      <th>0</th>\n",
       "      <td>1</td>\n",
       "      <td>1.0</td>\n",
       "      <td>v_large</td>\n",
       "      <td>house</td>\n",
       "      <td>26500000.0</td>\n",
       "      <td>v_expensive</td>\n",
       "      <td>17.093</td>\n",
       "      <td>10.0</td>\n",
       "      <td>16.0</td>\n",
       "      <td>6+</td>\n",
       "      <td>6+</td>\n",
       "      <td>4000.0</td>\n",
       "      <td>v_large</td>\n",
       "      <td>820000.0</td>\n",
       "      <td>v_large</td>\n",
       "    </tr>\n",
       "    <tr>\n",
       "      <th>1</th>\n",
       "      <td>2</td>\n",
       "      <td>9.0</td>\n",
       "      <td>v_large</td>\n",
       "      <td>house</td>\n",
       "      <td>26500000.0</td>\n",
       "      <td>v_expensive</td>\n",
       "      <td>17.093</td>\n",
       "      <td>10.0</td>\n",
       "      <td>12.0</td>\n",
       "      <td>6+</td>\n",
       "      <td>6+</td>\n",
       "      <td>3000.0</td>\n",
       "      <td>v_large</td>\n",
       "      <td>1200000.0</td>\n",
       "      <td>v_large</td>\n",
       "    </tr>\n",
       "    <tr>\n",
       "      <th>2</th>\n",
       "      <td>3</td>\n",
       "      <td>14.0</td>\n",
       "      <td>v_large</td>\n",
       "      <td>house</td>\n",
       "      <td>26500000.0</td>\n",
       "      <td>v_expensive</td>\n",
       "      <td>17.093</td>\n",
       "      <td>10.0</td>\n",
       "      <td>12.0</td>\n",
       "      <td>6+</td>\n",
       "      <td>6+</td>\n",
       "      <td>3000.0</td>\n",
       "      <td>v_large</td>\n",
       "      <td>2743.0</td>\n",
       "      <td>v_large</td>\n",
       "    </tr>\n",
       "    <tr>\n",
       "      <th>3</th>\n",
       "      <td>4</td>\n",
       "      <td>37.0</td>\n",
       "      <td>v_large</td>\n",
       "      <td>house</td>\n",
       "      <td>26500000.0</td>\n",
       "      <td>v_expensive</td>\n",
       "      <td>17.093</td>\n",
       "      <td>10.0</td>\n",
       "      <td>12.0</td>\n",
       "      <td>6+</td>\n",
       "      <td>6+</td>\n",
       "      <td>3000.0</td>\n",
       "      <td>v_large</td>\n",
       "      <td>1200000.0</td>\n",
       "      <td>v_large</td>\n",
       "    </tr>\n",
       "    <tr>\n",
       "      <th>4</th>\n",
       "      <td>5</td>\n",
       "      <td>85.0</td>\n",
       "      <td>v_large</td>\n",
       "      <td>house</td>\n",
       "      <td>26500000.0</td>\n",
       "      <td>v_expensive</td>\n",
       "      <td>17.093</td>\n",
       "      <td>10.0</td>\n",
       "      <td>12.0</td>\n",
       "      <td>6+</td>\n",
       "      <td>6+</td>\n",
       "      <td>517.0</td>\n",
       "      <td>v_large</td>\n",
       "      <td>1200000.0</td>\n",
       "      <td>v_large</td>\n",
       "    </tr>\n",
       "  </tbody>\n",
       "</table>\n",
       "</div>"
      ],
      "text/plain": [
       "   id_clean  sourceId source_size groupName  price_filled   price_cats  \\\n",
       "0         1       1.0     v_large     house    26500000.0  v_expensive   \n",
       "1         2       9.0     v_large     house    26500000.0  v_expensive   \n",
       "2         3      14.0     v_large     house    26500000.0  v_expensive   \n",
       "3         4      37.0     v_large     house    26500000.0  v_expensive   \n",
       "4         5      85.0     v_large     house    26500000.0  v_expensive   \n",
       "\n",
       "   price_log  bedrooms_filled_median  bathrooms_filled_median bedroom_cats  \\\n",
       "0     17.093                    10.0                     16.0           6+   \n",
       "1     17.093                    10.0                     12.0           6+   \n",
       "2     17.093                    10.0                     12.0           6+   \n",
       "3     17.093                    10.0                     12.0           6+   \n",
       "4     17.093                    10.0                     12.0           6+   \n",
       "\n",
       "  bathroom_cats  area_totalLiving_filled area_totalLiving_cats  \\\n",
       "0            6+                   4000.0               v_large   \n",
       "1            6+                   3000.0               v_large   \n",
       "2            6+                   3000.0               v_large   \n",
       "3            6+                   3000.0               v_large   \n",
       "4            6+                    517.0               v_large   \n",
       "\n",
       "   plotArea_filled plotArea_cats  \n",
       "0         820000.0       v_large  \n",
       "1        1200000.0       v_large  \n",
       "2           2743.0       v_large  \n",
       "3        1200000.0       v_large  \n",
       "4        1200000.0       v_large  "
      ]
     },
     "execution_count": 3,
     "metadata": {},
     "output_type": "execute_result"
    }
   ],
   "source": [
    "df.head()"
   ]
  },
  {
   "cell_type": "code",
   "execution_count": 4,
   "metadata": {},
   "outputs": [],
   "source": [
    "df.drop(columns=['id_clean', 'sourceId'], inplace=True)"
   ]
  },
  {
   "cell_type": "code",
   "execution_count": 5,
   "metadata": {},
   "outputs": [
    {
     "data": {
      "text/html": [
       "<div>\n",
       "<style scoped>\n",
       "    .dataframe tbody tr th:only-of-type {\n",
       "        vertical-align: middle;\n",
       "    }\n",
       "\n",
       "    .dataframe tbody tr th {\n",
       "        vertical-align: top;\n",
       "    }\n",
       "\n",
       "    .dataframe thead th {\n",
       "        text-align: right;\n",
       "    }\n",
       "</style>\n",
       "<table border=\"1\" class=\"dataframe\">\n",
       "  <thead>\n",
       "    <tr style=\"text-align: right;\">\n",
       "      <th></th>\n",
       "      <th>source_size</th>\n",
       "      <th>groupName</th>\n",
       "      <th>price_filled</th>\n",
       "      <th>price_cats</th>\n",
       "      <th>price_log</th>\n",
       "      <th>bedrooms_filled_median</th>\n",
       "      <th>bathrooms_filled_median</th>\n",
       "      <th>bedroom_cats</th>\n",
       "      <th>bathroom_cats</th>\n",
       "      <th>area_totalLiving_filled</th>\n",
       "      <th>area_totalLiving_cats</th>\n",
       "      <th>plotArea_filled</th>\n",
       "      <th>plotArea_cats</th>\n",
       "    </tr>\n",
       "  </thead>\n",
       "  <tbody>\n",
       "    <tr>\n",
       "      <th>0</th>\n",
       "      <td>v_large</td>\n",
       "      <td>house</td>\n",
       "      <td>26500000.0</td>\n",
       "      <td>v_expensive</td>\n",
       "      <td>17.093</td>\n",
       "      <td>10.0</td>\n",
       "      <td>16.0</td>\n",
       "      <td>6+</td>\n",
       "      <td>6+</td>\n",
       "      <td>4000.0</td>\n",
       "      <td>v_large</td>\n",
       "      <td>820000.0</td>\n",
       "      <td>v_large</td>\n",
       "    </tr>\n",
       "    <tr>\n",
       "      <th>1</th>\n",
       "      <td>v_large</td>\n",
       "      <td>house</td>\n",
       "      <td>26500000.0</td>\n",
       "      <td>v_expensive</td>\n",
       "      <td>17.093</td>\n",
       "      <td>10.0</td>\n",
       "      <td>12.0</td>\n",
       "      <td>6+</td>\n",
       "      <td>6+</td>\n",
       "      <td>3000.0</td>\n",
       "      <td>v_large</td>\n",
       "      <td>1200000.0</td>\n",
       "      <td>v_large</td>\n",
       "    </tr>\n",
       "    <tr>\n",
       "      <th>2</th>\n",
       "      <td>v_large</td>\n",
       "      <td>house</td>\n",
       "      <td>26500000.0</td>\n",
       "      <td>v_expensive</td>\n",
       "      <td>17.093</td>\n",
       "      <td>10.0</td>\n",
       "      <td>12.0</td>\n",
       "      <td>6+</td>\n",
       "      <td>6+</td>\n",
       "      <td>3000.0</td>\n",
       "      <td>v_large</td>\n",
       "      <td>2743.0</td>\n",
       "      <td>v_large</td>\n",
       "    </tr>\n",
       "    <tr>\n",
       "      <th>3</th>\n",
       "      <td>v_large</td>\n",
       "      <td>house</td>\n",
       "      <td>26500000.0</td>\n",
       "      <td>v_expensive</td>\n",
       "      <td>17.093</td>\n",
       "      <td>10.0</td>\n",
       "      <td>12.0</td>\n",
       "      <td>6+</td>\n",
       "      <td>6+</td>\n",
       "      <td>3000.0</td>\n",
       "      <td>v_large</td>\n",
       "      <td>1200000.0</td>\n",
       "      <td>v_large</td>\n",
       "    </tr>\n",
       "    <tr>\n",
       "      <th>4</th>\n",
       "      <td>v_large</td>\n",
       "      <td>house</td>\n",
       "      <td>26500000.0</td>\n",
       "      <td>v_expensive</td>\n",
       "      <td>17.093</td>\n",
       "      <td>10.0</td>\n",
       "      <td>12.0</td>\n",
       "      <td>6+</td>\n",
       "      <td>6+</td>\n",
       "      <td>517.0</td>\n",
       "      <td>v_large</td>\n",
       "      <td>1200000.0</td>\n",
       "      <td>v_large</td>\n",
       "    </tr>\n",
       "  </tbody>\n",
       "</table>\n",
       "</div>"
      ],
      "text/plain": [
       "  source_size groupName  price_filled   price_cats  price_log  \\\n",
       "0     v_large     house    26500000.0  v_expensive     17.093   \n",
       "1     v_large     house    26500000.0  v_expensive     17.093   \n",
       "2     v_large     house    26500000.0  v_expensive     17.093   \n",
       "3     v_large     house    26500000.0  v_expensive     17.093   \n",
       "4     v_large     house    26500000.0  v_expensive     17.093   \n",
       "\n",
       "   bedrooms_filled_median  bathrooms_filled_median bedroom_cats bathroom_cats  \\\n",
       "0                    10.0                     16.0           6+            6+   \n",
       "1                    10.0                     12.0           6+            6+   \n",
       "2                    10.0                     12.0           6+            6+   \n",
       "3                    10.0                     12.0           6+            6+   \n",
       "4                    10.0                     12.0           6+            6+   \n",
       "\n",
       "   area_totalLiving_filled area_totalLiving_cats  plotArea_filled  \\\n",
       "0                   4000.0               v_large         820000.0   \n",
       "1                   3000.0               v_large        1200000.0   \n",
       "2                   3000.0               v_large           2743.0   \n",
       "3                   3000.0               v_large        1200000.0   \n",
       "4                    517.0               v_large        1200000.0   \n",
       "\n",
       "  plotArea_cats  \n",
       "0       v_large  \n",
       "1       v_large  \n",
       "2       v_large  \n",
       "3       v_large  \n",
       "4       v_large  "
      ]
     },
     "execution_count": 5,
     "metadata": {},
     "output_type": "execute_result"
    }
   ],
   "source": [
    "df.head()"
   ]
  },
  {
   "cell_type": "code",
   "execution_count": null,
   "metadata": {},
   "outputs": [],
   "source": []
  }
 ],
 "metadata": {
  "kernelspec": {
   "display_name": "Python 3.8.13 ('lhl_env38')",
   "language": "python",
   "name": "python3"
  },
  "language_info": {
   "codemirror_mode": {
    "name": "ipython",
    "version": 3
   },
   "file_extension": ".py",
   "mimetype": "text/x-python",
   "name": "python",
   "nbconvert_exporter": "python",
   "pygments_lexer": "ipython3",
   "version": "3.8.13"
  },
  "orig_nbformat": 4,
  "vscode": {
   "interpreter": {
    "hash": "93c9cabeb8165e6a1575ace97e023eeebe73f88984ce88042818ce2a73501ce8"
   }
  }
 },
 "nbformat": 4,
 "nbformat_minor": 2
}
