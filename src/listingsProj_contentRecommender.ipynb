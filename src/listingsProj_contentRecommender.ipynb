{
 "cells": [
  {
   "cell_type": "code",
   "execution_count": 76,
   "metadata": {},
   "outputs": [],
   "source": [
    "import pandas as pd\n",
    "import numpy as np\n",
    "from sklearn.metrics.pairwise import cosine_similarity\n",
    "import re\n",
    "pd.set_option('display.max_colwidth', 100)"
   ]
  },
  {
   "cell_type": "code",
   "execution_count": 2,
   "metadata": {},
   "outputs": [],
   "source": [
    "path = '../data/casaData/'"
   ]
  },
  {
   "cell_type": "code",
   "execution_count": 3,
   "metadata": {},
   "outputs": [],
   "source": [
    "df_matchedListings = pd.read_csv(path + 'trainMatchedListings.csv')\n",
    "df_matchedListings = df_matchedListings.reset_index()\n",
    "df_matchedListings.columns = ['id1', 'id2','match']\n",
    "# orig_id = set(df_all['id_clean'].tolist())\n",
    "# df_matchedListings_clean = df_matchedListings.loc[(df_matchedListings['id2'].isin(orig_id)) & (df_matchedListings['id1'].isin(orig_id))]"
   ]
  },
  {
   "cell_type": "code",
   "execution_count": 4,
   "metadata": {},
   "outputs": [
    {
     "data": {
      "text/html": [
       "<div>\n",
       "<style scoped>\n",
       "    .dataframe tbody tr th:only-of-type {\n",
       "        vertical-align: middle;\n",
       "    }\n",
       "\n",
       "    .dataframe tbody tr th {\n",
       "        vertical-align: top;\n",
       "    }\n",
       "\n",
       "    .dataframe thead th {\n",
       "        text-align: right;\n",
       "    }\n",
       "</style>\n",
       "<table border=\"1\" class=\"dataframe\">\n",
       "  <thead>\n",
       "    <tr style=\"text-align: right;\">\n",
       "      <th></th>\n",
       "      <th>id1</th>\n",
       "      <th>id2</th>\n",
       "      <th>match</th>\n",
       "    </tr>\n",
       "  </thead>\n",
       "  <tbody>\n",
       "    <tr>\n",
       "      <th>0</th>\n",
       "      <td>1</td>\n",
       "      <td>2</td>\n",
       "      <td>1</td>\n",
       "    </tr>\n",
       "    <tr>\n",
       "      <th>1</th>\n",
       "      <td>1</td>\n",
       "      <td>3</td>\n",
       "      <td>1</td>\n",
       "    </tr>\n",
       "    <tr>\n",
       "      <th>2</th>\n",
       "      <td>1</td>\n",
       "      <td>4</td>\n",
       "      <td>1</td>\n",
       "    </tr>\n",
       "    <tr>\n",
       "      <th>3</th>\n",
       "      <td>1</td>\n",
       "      <td>5</td>\n",
       "      <td>1</td>\n",
       "    </tr>\n",
       "    <tr>\n",
       "      <th>4</th>\n",
       "      <td>1</td>\n",
       "      <td>6</td>\n",
       "      <td>1</td>\n",
       "    </tr>\n",
       "  </tbody>\n",
       "</table>\n",
       "</div>"
      ],
      "text/plain": [
       "   id1  id2  match\n",
       "0    1    2      1\n",
       "1    1    3      1\n",
       "2    1    4      1\n",
       "3    1    5      1\n",
       "4    1    6      1"
      ]
     },
     "execution_count": 4,
     "metadata": {},
     "output_type": "execute_result"
    }
   ],
   "source": [
    "df_matchedListings.head()"
   ]
  },
  {
   "cell_type": "code",
   "execution_count": 5,
   "metadata": {},
   "outputs": [],
   "source": [
    "df_matchedListings['id_list'] = list(zip(df_matchedListings['id1'], df_matchedListings['id2']))\n",
    "df_matchedListings['id_list'] = df_matchedListings['id_list'].apply(sorted)\n",
    "df_matchedListings['id_list'] = df_matchedListings['id_list'].apply(lambda x: ''.join(str(n) for n in x))\n",
    "df_matchedListings = df_matchedListings.drop_duplicates(subset='id_list')"
   ]
  },
  {
   "cell_type": "code",
   "execution_count": 6,
   "metadata": {},
   "outputs": [
    {
     "data": {
      "text/html": [
       "<div>\n",
       "<style scoped>\n",
       "    .dataframe tbody tr th:only-of-type {\n",
       "        vertical-align: middle;\n",
       "    }\n",
       "\n",
       "    .dataframe tbody tr th {\n",
       "        vertical-align: top;\n",
       "    }\n",
       "\n",
       "    .dataframe thead th {\n",
       "        text-align: right;\n",
       "    }\n",
       "</style>\n",
       "<table border=\"1\" class=\"dataframe\">\n",
       "  <thead>\n",
       "    <tr style=\"text-align: right;\">\n",
       "      <th></th>\n",
       "      <th>id1</th>\n",
       "      <th>id2</th>\n",
       "      <th>match</th>\n",
       "      <th>id_list</th>\n",
       "    </tr>\n",
       "  </thead>\n",
       "  <tbody>\n",
       "    <tr>\n",
       "      <th>0</th>\n",
       "      <td>1</td>\n",
       "      <td>2</td>\n",
       "      <td>1</td>\n",
       "      <td>12</td>\n",
       "    </tr>\n",
       "    <tr>\n",
       "      <th>1</th>\n",
       "      <td>1</td>\n",
       "      <td>3</td>\n",
       "      <td>1</td>\n",
       "      <td>13</td>\n",
       "    </tr>\n",
       "    <tr>\n",
       "      <th>2</th>\n",
       "      <td>1</td>\n",
       "      <td>4</td>\n",
       "      <td>1</td>\n",
       "      <td>14</td>\n",
       "    </tr>\n",
       "    <tr>\n",
       "      <th>3</th>\n",
       "      <td>1</td>\n",
       "      <td>5</td>\n",
       "      <td>1</td>\n",
       "      <td>15</td>\n",
       "    </tr>\n",
       "    <tr>\n",
       "      <th>4</th>\n",
       "      <td>1</td>\n",
       "      <td>6</td>\n",
       "      <td>1</td>\n",
       "      <td>16</td>\n",
       "    </tr>\n",
       "  </tbody>\n",
       "</table>\n",
       "</div>"
      ],
      "text/plain": [
       "   id1  id2  match id_list\n",
       "0    1    2      1      12\n",
       "1    1    3      1      13\n",
       "2    1    4      1      14\n",
       "3    1    5      1      15\n",
       "4    1    6      1      16"
      ]
     },
     "execution_count": 6,
     "metadata": {},
     "output_type": "execute_result"
    }
   ],
   "source": [
    "df_matchedListings.head()"
   ]
  },
  {
   "cell_type": "code",
   "execution_count": 7,
   "metadata": {},
   "outputs": [
    {
     "data": {
      "text/plain": [
       "(1817869, 4)"
      ]
     },
     "execution_count": 7,
     "metadata": {},
     "output_type": "execute_result"
    }
   ],
   "source": [
    "df_matchedListings.shape"
   ]
  },
  {
   "cell_type": "code",
   "execution_count": 8,
   "metadata": {},
   "outputs": [],
   "source": [
    "df_matchedListings = df_matchedListings.drop_duplicates('id1').reset_index(drop=True)"
   ]
  },
  {
   "cell_type": "code",
   "execution_count": 9,
   "metadata": {},
   "outputs": [
    {
     "data": {
      "text/plain": [
       "(64953, 4)"
      ]
     },
     "execution_count": 9,
     "metadata": {},
     "output_type": "execute_result"
    }
   ],
   "source": [
    "df_matchedListings.shape"
   ]
  },
  {
   "cell_type": "code",
   "execution_count": 10,
   "metadata": {},
   "outputs": [],
   "source": [
    "id_list=[]\n",
    "id_todrop=[]\n",
    "for index, row in df_matchedListings.iterrows():\n",
    "      if row['match']==1:\n",
    "            min_id = row[['id1','id2']].min()\n",
    "            id_list.append(min_id)\n",
    "            id_todrop.append(row['id2'])\n",
    "      else:\n",
    "            id_list.append(row['id1'])"
   ]
  },
  {
   "cell_type": "code",
   "execution_count": 11,
   "metadata": {},
   "outputs": [
    {
     "name": "stdout",
     "output_type": "stream",
     "text": [
      "[104998, 105000, 105014, 105020, 105021, 105031, 105032, 105041, 105043]\n",
      "[105025, 105027, 105029, 105030, 105031, 105034, 105039, 105040, 105043]\n"
     ]
    }
   ],
   "source": [
    "print(id_list[-10:-1])\n",
    "print(id_todrop[-10:-1])"
   ]
  },
  {
   "cell_type": "code",
   "execution_count": 12,
   "metadata": {},
   "outputs": [],
   "source": [
    "df_uniqueListings = df_matchedListings[~df_matchedListings['id1'].isin(id_todrop)]"
   ]
  },
  {
   "cell_type": "code",
   "execution_count": 13,
   "metadata": {},
   "outputs": [],
   "source": [
    "df_uniqueListings = df_uniqueListings.reset_index(drop=True)"
   ]
  },
  {
   "cell_type": "code",
   "execution_count": 14,
   "metadata": {},
   "outputs": [],
   "source": [
    "df_uniqueListings = df_uniqueListings[['id1']]"
   ]
  },
  {
   "cell_type": "code",
   "execution_count": 160,
   "metadata": {},
   "outputs": [],
   "source": [
    "# df_uniqueListings.to_csv('unique_id.csv')"
   ]
  },
  {
   "cell_type": "markdown",
   "metadata": {},
   "source": [
    "Merging with listings and cleaning text"
   ]
  },
  {
   "cell_type": "code",
   "execution_count": 15,
   "metadata": {},
   "outputs": [],
   "source": [
    "df_unique_id = pd.read_csv('unique_id.csv', index_col=0)"
   ]
  },
  {
   "cell_type": "code",
   "execution_count": 16,
   "metadata": {},
   "outputs": [
    {
     "name": "stderr",
     "output_type": "stream",
     "text": [
      "/var/folders/fm/m7sbfrtn37dcz2lvxhvj6q0m0000gn/T/ipykernel_29670/2889492285.py:1: DtypeWarning: Columns (0,4,15,16) have mixed types. Specify dtype option on import or set low_memory=False.\n",
      "  df = pd.read_csv(path + 'trainListings.csv', header=0, usecols=[x for x in range(17)])\n"
     ]
    }
   ],
   "source": [
    "df = pd.read_csv(path + 'trainListings.csv', header=0, usecols=[x for x in range(17)])"
   ]
  },
  {
   "cell_type": "code",
   "execution_count": 17,
   "metadata": {},
   "outputs": [],
   "source": [
    "df_num_clean = pd.read_csv('trainListings_num.csv', index_col=0)"
   ]
  },
  {
   "cell_type": "code",
   "execution_count": 18,
   "metadata": {},
   "outputs": [],
   "source": [
    "df_num_clean = df_num_clean[['id_clean', 'groupName', 'price_filled', 'bedroom_cats', 'bathroom_cats', 'area_totalLiving_filled']]"
   ]
  },
  {
   "cell_type": "code",
   "execution_count": 19,
   "metadata": {},
   "outputs": [],
   "source": [
    "# turn id to numeric and remove ones that are not numeric \n",
    "df['id_clean'] = pd.to_numeric(df['id'], errors='coerce')\n",
    "# removes non-numbers that became nans after to_numeric\n",
    "df = df.dropna(subset='id_clean')\n",
    "# convert to int\n",
    "df['id_clean'] = df['id_clean'].astype(int)"
   ]
  },
  {
   "cell_type": "code",
   "execution_count": 20,
   "metadata": {},
   "outputs": [
    {
     "data": {
      "text/html": [
       "<div>\n",
       "<style scoped>\n",
       "    .dataframe tbody tr th:only-of-type {\n",
       "        vertical-align: middle;\n",
       "    }\n",
       "\n",
       "    .dataframe tbody tr th {\n",
       "        vertical-align: top;\n",
       "    }\n",
       "\n",
       "    .dataframe thead th {\n",
       "        text-align: right;\n",
       "    }\n",
       "</style>\n",
       "<table border=\"1\" class=\"dataframe\">\n",
       "  <thead>\n",
       "    <tr style=\"text-align: right;\">\n",
       "      <th></th>\n",
       "      <th>id_clean</th>\n",
       "      <th>groupName</th>\n",
       "      <th>price_filled</th>\n",
       "      <th>bedroom_cats</th>\n",
       "      <th>bathroom_cats</th>\n",
       "      <th>area_totalLiving_filled</th>\n",
       "    </tr>\n",
       "  </thead>\n",
       "  <tbody>\n",
       "    <tr>\n",
       "      <th>0</th>\n",
       "      <td>1</td>\n",
       "      <td>house</td>\n",
       "      <td>26500000.0</td>\n",
       "      <td>6+</td>\n",
       "      <td>6+</td>\n",
       "      <td>4000.0</td>\n",
       "    </tr>\n",
       "    <tr>\n",
       "      <th>1</th>\n",
       "      <td>2</td>\n",
       "      <td>house</td>\n",
       "      <td>26500000.0</td>\n",
       "      <td>6+</td>\n",
       "      <td>6+</td>\n",
       "      <td>3000.0</td>\n",
       "    </tr>\n",
       "    <tr>\n",
       "      <th>2</th>\n",
       "      <td>3</td>\n",
       "      <td>house</td>\n",
       "      <td>26500000.0</td>\n",
       "      <td>6+</td>\n",
       "      <td>6+</td>\n",
       "      <td>3000.0</td>\n",
       "    </tr>\n",
       "    <tr>\n",
       "      <th>3</th>\n",
       "      <td>4</td>\n",
       "      <td>house</td>\n",
       "      <td>26500000.0</td>\n",
       "      <td>6+</td>\n",
       "      <td>6+</td>\n",
       "      <td>3000.0</td>\n",
       "    </tr>\n",
       "    <tr>\n",
       "      <th>4</th>\n",
       "      <td>5</td>\n",
       "      <td>house</td>\n",
       "      <td>26500000.0</td>\n",
       "      <td>6+</td>\n",
       "      <td>6+</td>\n",
       "      <td>517.0</td>\n",
       "    </tr>\n",
       "  </tbody>\n",
       "</table>\n",
       "</div>"
      ],
      "text/plain": [
       "   id_clean groupName  price_filled bedroom_cats bathroom_cats  \\\n",
       "0         1     house    26500000.0           6+            6+   \n",
       "1         2     house    26500000.0           6+            6+   \n",
       "2         3     house    26500000.0           6+            6+   \n",
       "3         4     house    26500000.0           6+            6+   \n",
       "4         5     house    26500000.0           6+            6+   \n",
       "\n",
       "   area_totalLiving_filled  \n",
       "0                   4000.0  \n",
       "1                   3000.0  \n",
       "2                   3000.0  \n",
       "3                   3000.0  \n",
       "4                    517.0  "
      ]
     },
     "execution_count": 20,
     "metadata": {},
     "output_type": "execute_result"
    }
   ],
   "source": [
    "df_num_clean.head()"
   ]
  },
  {
   "cell_type": "code",
   "execution_count": 21,
   "metadata": {},
   "outputs": [
    {
     "data": {
      "text/plain": [
       "Index(['id_clean', 'groupName', 'price_filled', 'bedroom_cats',\n",
       "       'bathroom_cats', 'area_totalLiving_filled'],\n",
       "      dtype='object')"
      ]
     },
     "execution_count": 21,
     "metadata": {},
     "output_type": "execute_result"
    }
   ],
   "source": [
    "df_num_clean.columns"
   ]
  },
  {
   "cell_type": "code",
   "execution_count": 22,
   "metadata": {},
   "outputs": [],
   "source": [
    "df_all = pd.merge(df_num_clean, df, how='left', left_on='id_clean', right_on='id_clean')"
   ]
  },
  {
   "cell_type": "code",
   "execution_count": 23,
   "metadata": {},
   "outputs": [],
   "source": [
    "df_all = df_all[['id_clean', 'groupName', 'price_filled', 'bedroom_cats',\n",
    "       'bathroom_cats', 'area_totalLiving_filled', 'title', 'description', 'features']]"
   ]
  },
  {
   "cell_type": "code",
   "execution_count": 24,
   "metadata": {},
   "outputs": [],
   "source": [
    "df_unique = pd.merge(df_unique_id, df_all, how='left', left_on='id1', right_on='id_clean')"
   ]
  },
  {
   "cell_type": "code",
   "execution_count": 25,
   "metadata": {},
   "outputs": [],
   "source": [
    "df_unique = df_unique.drop('id1', axis=1)"
   ]
  },
  {
   "cell_type": "code",
   "execution_count": 26,
   "metadata": {},
   "outputs": [],
   "source": [
    "df_unique = df_unique.dropna(subset='id_clean')\n",
    "df_unique = df_unique.dropna(subset='title')\n",
    "df_unique = df_unique.dropna(subset='description')"
   ]
  },
  {
   "cell_type": "code",
   "execution_count": 75,
   "metadata": {},
   "outputs": [],
   "source": [
    "# df_unique['price'] = df_unique['price_filled'].astype(str).map('{:,}'.format)"
   ]
  },
  {
   "cell_type": "code",
   "execution_count": 156,
   "metadata": {},
   "outputs": [],
   "source": [
    "# # drop rows that have missing both description and features\n",
    "# df_unique = df_unique[~((df_unique['description'].isna()) & (df_unique['features'].isna()))]"
   ]
  },
  {
   "cell_type": "code",
   "execution_count": 28,
   "metadata": {},
   "outputs": [],
   "source": [
    "df_unique['features'] = df_unique['features'].fillna('')"
   ]
  },
  {
   "cell_type": "code",
   "execution_count": 29,
   "metadata": {},
   "outputs": [],
   "source": [
    "df_unique['all_text'] = df_unique['description'] + ' ' + df_unique['features']"
   ]
  },
  {
   "cell_type": "code",
   "execution_count": 40,
   "metadata": {},
   "outputs": [],
   "source": [
    "# drop rows that have missing title description and features\n",
    "# df_unique_text = df_unique_text[~(df_unique_text['title'].isna() & df_unique_text['description'].isna() & df_unique_text['features'].isna())]"
   ]
  },
  {
   "cell_type": "code",
   "execution_count": 30,
   "metadata": {},
   "outputs": [],
   "source": [
    "from modules.preprocess_text import preprocess_text"
   ]
  },
  {
   "cell_type": "code",
   "execution_count": 31,
   "metadata": {},
   "outputs": [],
   "source": [
    "df_unique['clean_text'] = preprocess_text(df_unique['all_text'], alpha=True)"
   ]
  },
  {
   "cell_type": "code",
   "execution_count": 35,
   "metadata": {},
   "outputs": [],
   "source": [
    "def process_title(text_list):\n",
    "    text_clean=[]\n",
    "    for text in text_list:\n",
    "        text = re.sub(r'https?://\\S+|www\\.\\S+', '', text) # remove urls\n",
    "        text = re.sub(r'<.*?>', '', text) # remove htmls\n",
    "        text = re.sub(r'\\s+', ' ', text).strip() #removes trailing white spaces and changes multiple spaces to one\n",
    "        text = re.sub(r'(?<=[/.,])(?=[^\\s])', ' ', text) # adds a space after a period or comma, avoid joining two words\n",
    "        text = re.sub(r'[-/]', '', text)\n",
    "        text = re.sub(r'\\w*\\d\\w*', '', text)\n",
    "        \n",
    "        word_list = text.split()\n",
    "        text=\" \".join([word for word in word_list if not word.isnumeric()])\n",
    "\n",
    "        word_list = text.split()\n",
    "        text=\" \".join([word for word in word_list if len(word)>1])\n",
    "\n",
    "        text = text.title()\n",
    "        text_clean.append(text)\n",
    "    return text_clean\n",
    "\n",
    "def process_description(text_list):\n",
    "    text_clean=[]\n",
    "    for text in text_list:\n",
    "        text = re.sub(r'https?://\\S+|www\\.\\S+', '', text) # remove urls\n",
    "        text = re.sub(r'<.*?>', '', text) # remove htmls\n",
    "        text = re.sub(r'\\s+', ' ', text).strip() #removes trailing white spaces and changes multiple spaces to one\n",
    "        text = re.sub(r'(?<=[/.,])(?=[^\\s])', ' ', text) # adds a space after a period or comma, avoid joining two words\n",
    "        # text = ' '.join(re.split(r'(?<=[.?!])\\s+', text, 5)[:-1])\n",
    "        text_clean.append(text)\n",
    "    return text_clean"
   ]
  },
  {
   "cell_type": "code",
   "execution_count": 36,
   "metadata": {},
   "outputs": [],
   "source": [
    "df_unique['clean_title'] = process_title(df_unique['title'])\n",
    "df_unique['clean_description'] = process_description(df_unique['description'])"
   ]
  },
  {
   "cell_type": "code",
   "execution_count": 38,
   "metadata": {},
   "outputs": [],
   "source": [
    "df_unique = df_unique[~df_unique['clean_description'].isna()]"
   ]
  },
  {
   "cell_type": "code",
   "execution_count": 39,
   "metadata": {},
   "outputs": [],
   "source": [
    "from gensim.models import Word2Vec\n",
    "import nltk\n",
    "import spacy"
   ]
  },
  {
   "cell_type": "code",
   "execution_count": 40,
   "metadata": {},
   "outputs": [],
   "source": [
    "nlp = spacy.load('en_core_web_lg')"
   ]
  },
  {
   "cell_type": "code",
   "execution_count": 29,
   "metadata": {},
   "outputs": [],
   "source": [
    "# train nlp on text data - word embeddings were outputed as a csv \n",
    "with nlp.disable_pipes(): # disable pipe because already cleaned\n",
    "    listing_desc = [nlp(x).vector for x in df_unique['clean_text']]"
   ]
  },
  {
   "cell_type": "code",
   "execution_count": 41,
   "metadata": {},
   "outputs": [],
   "source": [
    "# importing word embeddings from the corpus\n",
    "desc_vects = pd.read_csv('description_vectors.csv', index_col=0)"
   ]
  },
  {
   "cell_type": "code",
   "execution_count": 48,
   "metadata": {},
   "outputs": [],
   "source": [
    "def recommender(text_description, num_rec=3):\n",
    "    # turn to list for preprocessing\n",
    "    # text_description = [text_description]\n",
    "    # clean text \n",
    "    text_clean = preprocess_text([text_description], alpha=True)\n",
    "    \n",
    "    # get vector for input\n",
    "    with nlp.disable_pipes():\n",
    "        temp_desc = [nlp(text_clean[0]).vector]\n",
    "    \n",
    "    # get cosine similarities from all listings\n",
    "    result = cosine_similarity(temp_desc, desc_vects)\n",
    "\n",
    "    # argsort to get top 5 indices\n",
    "    top5 = result.argsort()[0][-num_rec:]\n",
    "\n",
    "    top5_df = pd.DataFrame()\n",
    "    top5_titles =[]\n",
    "    top5_prices=[]\n",
    "    top5_desc=[]\n",
    "    top5_type=[]\n",
    "    for idx in top5:\n",
    "        top5_titles.append(df_unique.iloc[idx]['clean_title'])\n",
    "        top5_type.append(df_unique.iloc[idx]['groupName'])\n",
    "        top5_prices.append(df_unique.iloc[idx]['price_filled'])\n",
    "        top5_desc.append(df_unique.iloc[idx]['clean_description'])\n",
    "    \n",
    "    top5_df['Listing Name'] = top5_titles\n",
    "    top5_df['Description'] = top5_desc\n",
    "    top5_df['Price'] = top5_prices\n",
    "    top5_df['Type'] = top5_type\n",
    "    \n",
    "    return top5_df"
   ]
  },
  {
   "cell_type": "code",
   "execution_count": 45,
   "metadata": {},
   "outputs": [],
   "source": [
    "pd.set_option('display.max_colwidth', None)"
   ]
  },
  {
   "cell_type": "code",
   "execution_count": 74,
   "metadata": {},
   "outputs": [
    {
     "data": {
      "text/html": [
       "<div>\n",
       "<style scoped>\n",
       "    .dataframe tbody tr th:only-of-type {\n",
       "        vertical-align: middle;\n",
       "    }\n",
       "\n",
       "    .dataframe tbody tr th {\n",
       "        vertical-align: top;\n",
       "    }\n",
       "\n",
       "    .dataframe thead th {\n",
       "        text-align: right;\n",
       "    }\n",
       "</style>\n",
       "<table border=\"1\" class=\"dataframe\">\n",
       "  <thead>\n",
       "    <tr style=\"text-align: right;\">\n",
       "      <th></th>\n",
       "      <th>Listing Name</th>\n",
       "      <th>Description</th>\n",
       "      <th>Price</th>\n",
       "      <th>Type</th>\n",
       "    </tr>\n",
       "  </thead>\n",
       "  <tbody>\n",
       "    <tr>\n",
       "      <th>0</th>\n",
       "      <td>Spacious Apartment Walking Distance To The Beach</td>\n",
       "      <td>Spacious apartment in perfect condition with large terrace facing south, 2 minutes walk from the beach in Palmanova, in a quiet area near the beach promenade, near restaurants, shops and public transport. The apartment has a living room with access to a large terrace with views, fitchen kitchen, 3 bedrooms and 2 bathrooms. In addition there are communal pool and parking. MallorcaSite, your real estate agency in Mallorca, recommends this property for being in a quiet area, being in perfect condition, being near the beach, having a large terrace.</td>\n",
       "      <td>280000.0</td>\n",
       "      <td>apartment</td>\n",
       "    </tr>\n",
       "    <tr>\n",
       "      <th>1</th>\n",
       "      <td>Apartment In Cala Vinyas</td>\n",
       "      <td>Sea view, ideally located apartment. 2 bedrooms with 2 ensuite bathrooms. Walking distance to the beach at Cala Vinyas with spacious terrrace, community pool and private parking. Walking distance to shops, bars and restaurants in Cala Vinyas</td>\n",
       "      <td>239000.0</td>\n",
       "      <td>apartment</td>\n",
       "    </tr>\n",
       "    <tr>\n",
       "      <th>2</th>\n",
       "      <td>Apartment In Puerto De Andratx</td>\n",
       "      <td>Renovated sea view studio with kitchenette and bathroom with shower. Private terrace with dining table, chairs and sunloungers. Excellent sea views and access to Port Andratx facilities</td>\n",
       "      <td>170000.0</td>\n",
       "      <td>apartment</td>\n",
       "    </tr>\n",
       "  </tbody>\n",
       "</table>\n",
       "</div>"
      ],
      "text/plain": [
       "                                       Listing Name  \\\n",
       "0  Spacious Apartment Walking Distance To The Beach   \n",
       "1                          Apartment In Cala Vinyas   \n",
       "2                    Apartment In Puerto De Andratx   \n",
       "\n",
       "                                                                                                                                                                                                                                                                                                                                                                                                                                                                                                                                                              Description  \\\n",
       "0  Spacious apartment in perfect condition with large terrace facing south, 2 minutes walk from the beach in Palmanova, in a quiet area near the beach promenade, near restaurants, shops and public transport. The apartment has a living room with access to a large terrace with views, fitchen kitchen, 3 bedrooms and 2 bathrooms. In addition there are communal pool and parking. MallorcaSite, your real estate agency in Mallorca, recommends this property for being in a quiet area, being in perfect condition, being near the beach, having a large terrace.   \n",
       "1                                                                                                                                                                                                                                                                                                                       Sea view, ideally located apartment. 2 bedrooms with 2 ensuite bathrooms. Walking distance to the beach at Cala Vinyas with spacious terrrace, community pool and private parking. Walking distance to shops, bars and restaurants in Cala Vinyas   \n",
       "2                                                                                                                                                                                                                                                                                                                                                                               Renovated sea view studio with kitchenette and bathroom with shower. Private terrace with dining table, chairs and sunloungers. Excellent sea views and access to Port Andratx facilities   \n",
       "\n",
       "      Price       Type  \n",
       "0  280000.0  apartment  \n",
       "1  239000.0  apartment  \n",
       "2  170000.0  apartment  "
      ]
     },
     "execution_count": 74,
     "metadata": {},
     "output_type": "execute_result"
    }
   ],
   "source": [
    "recommender('apartment that is walking distance from a beach with a terrace')"
   ]
  },
  {
   "cell_type": "code",
   "execution_count": 107,
   "metadata": {},
   "outputs": [
    {
     "data": {
      "text/html": [
       "<div>\n",
       "<style scoped>\n",
       "    .dataframe tbody tr th:only-of-type {\n",
       "        vertical-align: middle;\n",
       "    }\n",
       "\n",
       "    .dataframe tbody tr th {\n",
       "        vertical-align: top;\n",
       "    }\n",
       "\n",
       "    .dataframe thead th {\n",
       "        text-align: right;\n",
       "    }\n",
       "</style>\n",
       "<table border=\"1\" class=\"dataframe\">\n",
       "  <thead>\n",
       "    <tr style=\"text-align: right;\">\n",
       "      <th></th>\n",
       "      <th>Listing Name</th>\n",
       "      <th>Description</th>\n",
       "      <th>Price</th>\n",
       "      <th>Type</th>\n",
       "    </tr>\n",
       "  </thead>\n",
       "  <tbody>\n",
       "    <tr>\n",
       "      <th>0</th>\n",
       "      <td>Mallorca Apartments Apartment For Sale In Santa Ponsa Very Close To All Amenities</td>\n",
       "      <td></td>\n",
       "      <td>150000.0</td>\n",
       "      <td>apartment</td>\n",
       "    </tr>\n",
       "    <tr>\n",
       "      <th>1</th>\n",
       "      <td>Down Floor Apartment In Talamanca</td>\n",
       "      <td></td>\n",
       "      <td>350000.0</td>\n",
       "      <td>apartment</td>\n",
       "    </tr>\n",
       "    <tr>\n",
       "      <th>2</th>\n",
       "      <td>Nice Apartment For Sale In Puerto Pollensa</td>\n",
       "      <td>This apartment is located in the popular area of Puerto Pollensa Pinaret. It is a ground floor apartment with a beautiful terrace, the perfect place to relax. The apartment has two bedrooms and a bathroom, Kücheund a fairly large dining room. It is located just 50 meters from the beach and in general there are good shopping. The residential area of Puerto Pollensa Pinaret is one of the most exclusive areas of the city because of its proximity to the pedestrian promenade, restaurants, shops and beach.</td>\n",
       "      <td>215000.0</td>\n",
       "      <td>apartment</td>\n",
       "    </tr>\n",
       "    <tr>\n",
       "      <th>3</th>\n",
       "      <td>Bedroom Apartment Overlooking The Little Beach In Santa Ponsa With Sea Views And Parking Place</td>\n",
       "      <td>2 bedroom apartment overlooking the little beach in Santa Ponsa. This bright apartment is within a 4 minute walk to al amenities Santa Ponsa has to offer such as shops, restaurants and the big beach. There is also a parking space sold with this property.</td>\n",
       "      <td>275000.0</td>\n",
       "      <td>apartment</td>\n",
       "    </tr>\n",
       "    <tr>\n",
       "      <th>4</th>\n",
       "      <td>Mallorca Property Apartment For Sale In Santa Ponsa Close To All Amenities</td>\n",
       "      <td></td>\n",
       "      <td>90000.0</td>\n",
       "      <td>apartment</td>\n",
       "    </tr>\n",
       "  </tbody>\n",
       "</table>\n",
       "</div>"
      ],
      "text/plain": [
       "                                                                                     Listing Name  \\\n",
       "0               Mallorca Apartments Apartment For Sale In Santa Ponsa Very Close To All Amenities   \n",
       "1                                                               Down Floor Apartment In Talamanca   \n",
       "2                                                      Nice Apartment For Sale In Puerto Pollensa   \n",
       "3  Bedroom Apartment Overlooking The Little Beach In Santa Ponsa With Sea Views And Parking Place   \n",
       "4                      Mallorca Property Apartment For Sale In Santa Ponsa Close To All Amenities   \n",
       "\n",
       "                                                                                                                                                                                                                                                                                                                                                                                                                                                                                                                 Description  \\\n",
       "0                                                                                                                                                                                                                                                                                                                                                                                                                                                                                                                              \n",
       "1                                                                                                                                                                                                                                                                                                                                                                                                                                                                                                                              \n",
       "2  This apartment is located in the popular area of Puerto Pollensa Pinaret. It is a ground floor apartment with a beautiful terrace, the perfect place to relax. The apartment has two bedrooms and a bathroom, Kücheund a fairly large dining room. It is located just 50 meters from the beach and in general there are good shopping. The residential area of Puerto Pollensa Pinaret is one of the most exclusive areas of the city because of its proximity to the pedestrian promenade, restaurants, shops and beach.   \n",
       "3                                                                                                                                                                                                                                                             2 bedroom apartment overlooking the little beach in Santa Ponsa. This bright apartment is within a 4 minute walk to al amenities Santa Ponsa has to offer such as shops, restaurants and the big beach. There is also a parking space sold with this property.   \n",
       "4                                                                                                                                                                                                                                                                                                                                                                                                                                                                                                                              \n",
       "\n",
       "      Price       Type  \n",
       "0  150000.0  apartment  \n",
       "1  350000.0  apartment  \n",
       "2  215000.0  apartment  \n",
       "3  275000.0  apartment  \n",
       "4   90000.0  apartment  "
      ]
     },
     "execution_count": 107,
     "metadata": {},
     "output_type": "execute_result"
    }
   ],
   "source": [
    "recommender('cheap apartments by the beach')"
   ]
  },
  {
   "cell_type": "code",
   "execution_count": 94,
   "metadata": {},
   "outputs": [],
   "source": [
    "import streamlit as st"
   ]
  },
  {
   "cell_type": "code",
   "execution_count": null,
   "metadata": {},
   "outputs": [],
   "source": []
  }
 ],
 "metadata": {
  "kernelspec": {
   "display_name": "Python 3.8.13 ('lhl_env38')",
   "language": "python",
   "name": "python3"
  },
  "language_info": {
   "codemirror_mode": {
    "name": "ipython",
    "version": 3
   },
   "file_extension": ".py",
   "mimetype": "text/x-python",
   "name": "python",
   "nbconvert_exporter": "python",
   "pygments_lexer": "ipython3",
   "version": "3.8.13"
  },
  "orig_nbformat": 4,
  "vscode": {
   "interpreter": {
    "hash": "93c9cabeb8165e6a1575ace97e023eeebe73f88984ce88042818ce2a73501ce8"
   }
  }
 },
 "nbformat": 4,
 "nbformat_minor": 2
}
